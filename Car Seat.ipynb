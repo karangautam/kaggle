{
 "cells": [
  {
   "cell_type": "code",
   "execution_count": 1,
   "metadata": {},
   "outputs": [],
   "source": [
    "import pandas as pd\n",
    "import numpy as np\n",
    "import matplotlib.pyplot as plt\n",
    "import seaborn as sns\n",
    "from sklearn import preprocessing\n",
    "import sklearn\n",
    "import xgboost as xgb"
   ]
  },
  {
   "cell_type": "code",
   "execution_count": 2,
   "metadata": {},
   "outputs": [],
   "source": [
    "train = pd.read_csv('Carseats_training.csv')\n",
    "test =pd.read_csv('Carseats_testing.csv')\n",
    "sub = pd.read_csv('Carseats_sample_submission.csv')"
   ]
  },
  {
   "cell_type": "code",
   "execution_count": 3,
   "metadata": {},
   "outputs": [
    {
     "data": {
      "text/html": [
       "<div>\n",
       "<style scoped>\n",
       "    .dataframe tbody tr th:only-of-type {\n",
       "        vertical-align: middle;\n",
       "    }\n",
       "\n",
       "    .dataframe tbody tr th {\n",
       "        vertical-align: top;\n",
       "    }\n",
       "\n",
       "    .dataframe thead th {\n",
       "        text-align: right;\n",
       "    }\n",
       "</style>\n",
       "<table border=\"1\" class=\"dataframe\">\n",
       "  <thead>\n",
       "    <tr style=\"text-align: right;\">\n",
       "      <th></th>\n",
       "      <th>ID</th>\n",
       "      <th>Sales</th>\n",
       "      <th>CompPrice</th>\n",
       "      <th>Income</th>\n",
       "      <th>Advertising</th>\n",
       "      <th>Population</th>\n",
       "      <th>Price</th>\n",
       "      <th>ShelveLoc</th>\n",
       "      <th>Age</th>\n",
       "      <th>Education</th>\n",
       "      <th>Urban</th>\n",
       "      <th>US</th>\n",
       "    </tr>\n",
       "  </thead>\n",
       "  <tbody>\n",
       "    <tr>\n",
       "      <th>0</th>\n",
       "      <td>1</td>\n",
       "      <td>10.48</td>\n",
       "      <td>138</td>\n",
       "      <td>72</td>\n",
       "      <td>0</td>\n",
       "      <td>148</td>\n",
       "      <td>94</td>\n",
       "      <td>Medium</td>\n",
       "      <td>27</td>\n",
       "      <td>17</td>\n",
       "      <td>Yes</td>\n",
       "      <td>Yes</td>\n",
       "    </tr>\n",
       "    <tr>\n",
       "      <th>1</th>\n",
       "      <td>2</td>\n",
       "      <td>10.43</td>\n",
       "      <td>77</td>\n",
       "      <td>69</td>\n",
       "      <td>0</td>\n",
       "      <td>25</td>\n",
       "      <td>24</td>\n",
       "      <td>Medium</td>\n",
       "      <td>50</td>\n",
       "      <td>18</td>\n",
       "      <td>Yes</td>\n",
       "      <td>No</td>\n",
       "    </tr>\n",
       "    <tr>\n",
       "      <th>2</th>\n",
       "      <td>3</td>\n",
       "      <td>5.32</td>\n",
       "      <td>118</td>\n",
       "      <td>74</td>\n",
       "      <td>6</td>\n",
       "      <td>426</td>\n",
       "      <td>102</td>\n",
       "      <td>Medium</td>\n",
       "      <td>80</td>\n",
       "      <td>18</td>\n",
       "      <td>Yes</td>\n",
       "      <td>Yes</td>\n",
       "    </tr>\n",
       "    <tr>\n",
       "      <th>3</th>\n",
       "      <td>4</td>\n",
       "      <td>7.67</td>\n",
       "      <td>129</td>\n",
       "      <td>117</td>\n",
       "      <td>8</td>\n",
       "      <td>400</td>\n",
       "      <td>101</td>\n",
       "      <td>Bad</td>\n",
       "      <td>36</td>\n",
       "      <td>10</td>\n",
       "      <td>Yes</td>\n",
       "      <td>Yes</td>\n",
       "    </tr>\n",
       "    <tr>\n",
       "      <th>4</th>\n",
       "      <td>5</td>\n",
       "      <td>5.32</td>\n",
       "      <td>152</td>\n",
       "      <td>116</td>\n",
       "      <td>0</td>\n",
       "      <td>170</td>\n",
       "      <td>160</td>\n",
       "      <td>Medium</td>\n",
       "      <td>39</td>\n",
       "      <td>16</td>\n",
       "      <td>Yes</td>\n",
       "      <td>No</td>\n",
       "    </tr>\n",
       "  </tbody>\n",
       "</table>\n",
       "</div>"
      ],
      "text/plain": [
       "   ID  Sales  CompPrice  Income  Advertising  Population  Price ShelveLoc  \\\n",
       "0   1  10.48        138      72            0         148     94    Medium   \n",
       "1   2  10.43         77      69            0          25     24    Medium   \n",
       "2   3   5.32        118      74            6         426    102    Medium   \n",
       "3   4   7.67        129     117            8         400    101       Bad   \n",
       "4   5   5.32        152     116            0         170    160    Medium   \n",
       "\n",
       "   Age  Education Urban   US  \n",
       "0   27         17   Yes  Yes  \n",
       "1   50         18   Yes   No  \n",
       "2   80         18   Yes  Yes  \n",
       "3   36         10   Yes  Yes  \n",
       "4   39         16   Yes   No  "
      ]
     },
     "execution_count": 3,
     "metadata": {},
     "output_type": "execute_result"
    }
   ],
   "source": [
    "train.head()"
   ]
  },
  {
   "cell_type": "code",
   "execution_count": 4,
   "metadata": {},
   "outputs": [],
   "source": [
    "train['cvi'] = train['CompPrice']/train['Income']\n",
    "train['cvp'] = train['CompPrice']/train['Price']\n",
    "train['ivp'] = train['Income']/train['Price']\n",
    "test['cvi'] = test['CompPrice']/test['Income']\n",
    "test['cvp'] = test['CompPrice']/test['Price']\n",
    "test['ivp'] = test['Income']/test['Price']"
   ]
  },
  {
   "cell_type": "code",
   "execution_count": null,
   "metadata": {},
   "outputs": [],
   "source": []
  },
  {
   "cell_type": "code",
   "execution_count": null,
   "metadata": {},
   "outputs": [],
   "source": []
  },
  {
   "cell_type": "code",
   "execution_count": 5,
   "metadata": {},
   "outputs": [
    {
     "data": {
      "text/plain": [
       "Medium    179\n",
       "Bad        76\n",
       "Good       65\n",
       "Name: ShelveLoc, dtype: int64"
      ]
     },
     "execution_count": 5,
     "metadata": {},
     "output_type": "execute_result"
    }
   ],
   "source": [
    "train['Urban'].value_counts()\n",
    "train['ShelveLoc'].value_counts()\n",
    "#train['Advertising'].value_counts()"
   ]
  },
  {
   "cell_type": "code",
   "execution_count": 6,
   "metadata": {},
   "outputs": [],
   "source": [
    "#leurban = preprocessing.LabelEncoder()\n",
    "leshelve = preprocessing.LabelEncoder()\n",
    "#leadv = preprocessing.LabelEncoder()"
   ]
  },
  {
   "cell_type": "code",
   "execution_count": 7,
   "metadata": {},
   "outputs": [],
   "source": [
    "#train.loc[train.groupby('Advertising').Advertising.transform('count').lt(2), 'Advertising'] = 99\n",
    "#test.loc[test.groupby('Advertising').Advertising.transform('count').lt(2), 'Advertising'] = 99\n"
   ]
  },
  {
   "cell_type": "code",
   "execution_count": 8,
   "metadata": {},
   "outputs": [
    {
     "data": {
      "text/plain": [
       "LabelEncoder()"
      ]
     },
     "execution_count": 8,
     "metadata": {},
     "output_type": "execute_result"
    }
   ],
   "source": [
    "#leurban.fit(train['Urban'])\n",
    "leshelve.fit(train['ShelveLoc'])\n",
    "#leadv.fit(train['Advertising'])"
   ]
  },
  {
   "cell_type": "code",
   "execution_count": 9,
   "metadata": {},
   "outputs": [],
   "source": [
    "train['Urban'] = (train['Urban'] == 'Yes').astype(int)\n",
    "train['ShelveLoc'] = leshelve.transform(train['ShelveLoc'])\n",
    "#train['Advertising']=leadv.transform(train['Advertising'])\n",
    "test['Urban'] = (test['Urban'] == 'Yes').astype(int)\n",
    "test['ShelveLoc'] = leshelve.transform(test['ShelveLoc'])\n",
    "#test['Advertising']=leadv.transform(test['Advertising'])\n"
   ]
  },
  {
   "cell_type": "code",
   "execution_count": 10,
   "metadata": {},
   "outputs": [],
   "source": [
    "train['US'] = (train['US'] == 'Yes').astype(int)\n",
    "test['US'] = (test['US'] == 'Yes').astype(int)"
   ]
  },
  {
   "cell_type": "code",
   "execution_count": 11,
   "metadata": {},
   "outputs": [
    {
     "data": {
      "text/html": [
       "<div>\n",
       "<style scoped>\n",
       "    .dataframe tbody tr th:only-of-type {\n",
       "        vertical-align: middle;\n",
       "    }\n",
       "\n",
       "    .dataframe tbody tr th {\n",
       "        vertical-align: top;\n",
       "    }\n",
       "\n",
       "    .dataframe thead th {\n",
       "        text-align: right;\n",
       "    }\n",
       "</style>\n",
       "<table border=\"1\" class=\"dataframe\">\n",
       "  <thead>\n",
       "    <tr style=\"text-align: right;\">\n",
       "      <th></th>\n",
       "      <th>ID</th>\n",
       "      <th>Sales</th>\n",
       "      <th>CompPrice</th>\n",
       "      <th>Income</th>\n",
       "      <th>Advertising</th>\n",
       "      <th>Population</th>\n",
       "      <th>Price</th>\n",
       "      <th>ShelveLoc</th>\n",
       "      <th>Age</th>\n",
       "      <th>Education</th>\n",
       "      <th>Urban</th>\n",
       "      <th>US</th>\n",
       "      <th>cvi</th>\n",
       "      <th>cvp</th>\n",
       "      <th>ivp</th>\n",
       "    </tr>\n",
       "  </thead>\n",
       "  <tbody>\n",
       "    <tr>\n",
       "      <th>0</th>\n",
       "      <td>1</td>\n",
       "      <td>10.48</td>\n",
       "      <td>138</td>\n",
       "      <td>72</td>\n",
       "      <td>0</td>\n",
       "      <td>148</td>\n",
       "      <td>94</td>\n",
       "      <td>2</td>\n",
       "      <td>27</td>\n",
       "      <td>17</td>\n",
       "      <td>1</td>\n",
       "      <td>1</td>\n",
       "      <td>1.916667</td>\n",
       "      <td>1.468085</td>\n",
       "      <td>0.765957</td>\n",
       "    </tr>\n",
       "    <tr>\n",
       "      <th>1</th>\n",
       "      <td>2</td>\n",
       "      <td>10.43</td>\n",
       "      <td>77</td>\n",
       "      <td>69</td>\n",
       "      <td>0</td>\n",
       "      <td>25</td>\n",
       "      <td>24</td>\n",
       "      <td>2</td>\n",
       "      <td>50</td>\n",
       "      <td>18</td>\n",
       "      <td>1</td>\n",
       "      <td>0</td>\n",
       "      <td>1.115942</td>\n",
       "      <td>3.208333</td>\n",
       "      <td>2.875000</td>\n",
       "    </tr>\n",
       "    <tr>\n",
       "      <th>2</th>\n",
       "      <td>3</td>\n",
       "      <td>5.32</td>\n",
       "      <td>118</td>\n",
       "      <td>74</td>\n",
       "      <td>6</td>\n",
       "      <td>426</td>\n",
       "      <td>102</td>\n",
       "      <td>2</td>\n",
       "      <td>80</td>\n",
       "      <td>18</td>\n",
       "      <td>1</td>\n",
       "      <td>1</td>\n",
       "      <td>1.594595</td>\n",
       "      <td>1.156863</td>\n",
       "      <td>0.725490</td>\n",
       "    </tr>\n",
       "    <tr>\n",
       "      <th>3</th>\n",
       "      <td>4</td>\n",
       "      <td>7.67</td>\n",
       "      <td>129</td>\n",
       "      <td>117</td>\n",
       "      <td>8</td>\n",
       "      <td>400</td>\n",
       "      <td>101</td>\n",
       "      <td>0</td>\n",
       "      <td>36</td>\n",
       "      <td>10</td>\n",
       "      <td>1</td>\n",
       "      <td>1</td>\n",
       "      <td>1.102564</td>\n",
       "      <td>1.277228</td>\n",
       "      <td>1.158416</td>\n",
       "    </tr>\n",
       "    <tr>\n",
       "      <th>4</th>\n",
       "      <td>5</td>\n",
       "      <td>5.32</td>\n",
       "      <td>152</td>\n",
       "      <td>116</td>\n",
       "      <td>0</td>\n",
       "      <td>170</td>\n",
       "      <td>160</td>\n",
       "      <td>2</td>\n",
       "      <td>39</td>\n",
       "      <td>16</td>\n",
       "      <td>1</td>\n",
       "      <td>0</td>\n",
       "      <td>1.310345</td>\n",
       "      <td>0.950000</td>\n",
       "      <td>0.725000</td>\n",
       "    </tr>\n",
       "  </tbody>\n",
       "</table>\n",
       "</div>"
      ],
      "text/plain": [
       "   ID  Sales  CompPrice  Income  Advertising  Population  Price  ShelveLoc  \\\n",
       "0   1  10.48        138      72            0         148     94          2   \n",
       "1   2  10.43         77      69            0          25     24          2   \n",
       "2   3   5.32        118      74            6         426    102          2   \n",
       "3   4   7.67        129     117            8         400    101          0   \n",
       "4   5   5.32        152     116            0         170    160          2   \n",
       "\n",
       "   Age  Education  Urban  US       cvi       cvp       ivp  \n",
       "0   27         17      1   1  1.916667  1.468085  0.765957  \n",
       "1   50         18      1   0  1.115942  3.208333  2.875000  \n",
       "2   80         18      1   1  1.594595  1.156863  0.725490  \n",
       "3   36         10      1   1  1.102564  1.277228  1.158416  \n",
       "4   39         16      1   0  1.310345  0.950000  0.725000  "
      ]
     },
     "execution_count": 11,
     "metadata": {},
     "output_type": "execute_result"
    }
   ],
   "source": [
    "train.head()"
   ]
  },
  {
   "cell_type": "code",
   "execution_count": null,
   "metadata": {},
   "outputs": [],
   "source": []
  },
  {
   "cell_type": "code",
   "execution_count": 12,
   "metadata": {},
   "outputs": [],
   "source": [
    "trainY=train['Sales']\n",
    "trainX = train.drop(['ID','Sales'],axis=1)\n",
    "testX= test.drop(['ID'],axis=1)"
   ]
  },
  {
   "cell_type": "code",
   "execution_count": 13,
   "metadata": {},
   "outputs": [],
   "source": [
    "xgb1 = xgb.XGBRegressor(colsample_bytree=0.8,\n",
    "                 gamma=0,                 \n",
    "                 learning_rate=0.01,\n",
    "                 max_depth=3,\n",
    "                 min_child_weight=0.5,\n",
    "                 n_estimators=100000,                                                                    \n",
    "                 reg_alpha=0.75,\n",
    "                 reg_lambda=0.45,\n",
    "                 subsample=0.75,\n",
    "                 seed=42) "
   ]
  },
  {
   "cell_type": "code",
   "execution_count": 14,
   "metadata": {},
   "outputs": [
    {
     "data": {
      "text/plain": [
       "XGBRegressor(base_score=0.5, booster='gbtree', colsample_bylevel=1,\n",
       "       colsample_bytree=0.8, gamma=0, learning_rate=0.01, max_delta_step=0,\n",
       "       max_depth=3, min_child_weight=0.5, missing=None,\n",
       "       n_estimators=100000, n_jobs=1, nthread=None, objective='reg:linear',\n",
       "       random_state=0, reg_alpha=0.75, reg_lambda=0.45, scale_pos_weight=1,\n",
       "       seed=42, silent=True, subsample=0.75)"
      ]
     },
     "execution_count": 14,
     "metadata": {},
     "output_type": "execute_result"
    }
   ],
   "source": [
    "xgb1.fit(trainX,trainY,eval_metric='rmse')"
   ]
  },
  {
   "cell_type": "code",
   "execution_count": 15,
   "metadata": {},
   "outputs": [
    {
     "data": {
      "text/plain": [
       "array([0.09535729, 0.07747073, 0.05911875, 0.1542119 , 0.07659023,\n",
       "       0.02336449, 0.10308047, 0.04510635, 0.0124967 , 0.00705023,\n",
       "       0.10562132, 0.13874668, 0.10178488], dtype=float32)"
      ]
     },
     "execution_count": 15,
     "metadata": {},
     "output_type": "execute_result"
    }
   ],
   "source": [
    "xgb1.feature_importances_"
   ]
  },
  {
   "cell_type": "code",
   "execution_count": 16,
   "metadata": {},
   "outputs": [
    {
     "data": {
      "text/plain": [
       "0.9996801759064802"
      ]
     },
     "execution_count": 16,
     "metadata": {},
     "output_type": "execute_result"
    }
   ],
   "source": [
    "xgb1.score(trainX,trainY)"
   ]
  },
  {
   "cell_type": "code",
   "execution_count": 215,
   "metadata": {},
   "outputs": [],
   "source": [
    "out = xgb1.predict(trainX)"
   ]
  },
  {
   "cell_type": "code",
   "execution_count": 216,
   "metadata": {},
   "outputs": [],
   "source": [
    "sub['Sales'] = pd.DataFrame(out)"
   ]
  },
  {
   "cell_type": "code",
   "execution_count": 217,
   "metadata": {},
   "outputs": [],
   "source": [
    "sub.to_csv('sub.csv',index=False)"
   ]
  },
  {
   "cell_type": "code",
   "execution_count": null,
   "metadata": {},
   "outputs": [],
   "source": []
  }
 ],
 "metadata": {
  "kernelspec": {
   "display_name": "Python 3",
   "language": "python",
   "name": "python3"
  },
  "language_info": {
   "codemirror_mode": {
    "name": "ipython",
    "version": 3
   },
   "file_extension": ".py",
   "mimetype": "text/x-python",
   "name": "python",
   "nbconvert_exporter": "python",
   "pygments_lexer": "ipython3",
   "version": "3.6.6"
  }
 },
 "nbformat": 4,
 "nbformat_minor": 2
}
